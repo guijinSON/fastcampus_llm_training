{
 "cells": [
  {
   "cell_type": "code",
   "execution_count": null,
   "id": "495548b2-87c2-45cd-9896-4847d4a20c6f",
   "metadata": {},
   "outputs": [],
   "source": [
    "ashleykza/runpod-base:2.4.3-python3.11-cuda12.4.1-torch2.6.0"
   ]
  },
  {
   "cell_type": "code",
   "execution_count": null,
   "id": "04f4a91e-b546-4f63-93ce-a0d73426793f",
   "metadata": {},
   "outputs": [],
   "source": [
    "# pip 을 활용한 다운로드 (최신 버전)\n",
    "pip3 install -U packaging==23.2 setuptools==75.8.0 wheel ninja\n",
    "pip3 install --no-build-isolation axolotl[flash-attn,deepspeed]\n",
    "\n",
    "# github 에서 다운로드 (최신 버전)\n",
    "git clone https://github.com/axolotl-ai-cloud/axolotl.git\n",
    "cd axolotl\n",
    "pip3 install -U packaging setuptools wheel ninja\n",
    "pip3 install --no-build-isolation -e '.[flash-attn,deepspeed]'\n",
    "\n",
    "# pip 을 활용한 다운로드 (0.10.0 버전)\n",
    "pip3 install -U packaging==23.2 setuptools==75.8.0 wheel ninja\n",
    "pip3 install --no-build-isolation \"axolotl[flash-attn,deepspeed]==0.10.0\"\n",
    "\n",
    "# Download example axolotl configs, deepspeed configs\n",
    "axolotl fetch examples\n",
    "axolotl fetch deepspeed_configs  # OPTIONAL"
   ]
  },
  {
   "cell_type": "code",
   "execution_count": 1,
   "id": "05f64a9c-a0c2-4a3f-bbf4-861ece72a633",
   "metadata": {},
   "outputs": [
    {
     "name": "stderr",
     "output_type": "stream",
     "text": [
      "/opt/conda/lib/python3.11/site-packages/tqdm/auto.py:21: TqdmWarning: IProgress not found. Please update jupyter and ipywidgets. See https://ipywidgets.readthedocs.io/en/stable/user_install.html\n",
      "  from .autonotebook import tqdm as notebook_tqdm\n",
      "Generating train split: 100%|█████████████████████████████████████████████████████████████████████████████████████████████████████████████████████████████████████████████████████████████████████████████| 40483/40483 [00:01<00:00, 39992.34 examples/s]\n"
     ]
    }
   ],
   "source": [
    "from datasets import load_dataset\n",
    "\n",
    "df = load_dataset('amphora/fc-ko-project-sft-v0',\n",
    "                  split='train').to_pandas()\n",
    "contents = []\n",
    "for _,row in df.iterrows():\n",
    "    content = [\n",
    "        {'content':row.instruction,'role':'user'},\n",
    "        {'content':row.response,'role':'assistant'},\n",
    "    ]\n",
    "    contents.append(content)\n",
    "df['messages'] = contents\n",
    "\n",
    "# df is your pandas DataFrame\n",
    "df.to_json(\n",
    "    \"train.jsonl\",   # file name\n",
    "    orient=\"records\", # one JSON object per line\n",
    "    lines=True,       # write in JSON Lines format\n",
    ")"
   ]
  },
  {
   "cell_type": "code",
   "execution_count": 1,
   "id": "0c2f0d09-dff5-414a-822d-713b55ac5aed",
   "metadata": {},
   "outputs": [
    {
     "ename": "SyntaxError",
     "evalue": "invalid syntax (1010188386.py, line 1)",
     "output_type": "error",
     "traceback": [
      "\u001b[0;36m  Cell \u001b[0;32mIn[1], line 1\u001b[0;36m\u001b[0m\n\u001b[0;31m    axolotl train h100_kanana_sft.yaml\u001b[0m\n\u001b[0m            ^\u001b[0m\n\u001b[0;31mSyntaxError\u001b[0m\u001b[0;31m:\u001b[0m invalid syntax\n"
     ]
    }
   ],
   "source": [
    "# 학습 시작\n",
    "axolotl train h100_kanana_sft.yaml"
   ]
  }
 ],
 "metadata": {
  "kernelspec": {
   "display_name": "Python 3 (ipykernel)",
   "language": "python",
   "name": "python3"
  },
  "language_info": {
   "codemirror_mode": {
    "name": "ipython",
    "version": 3
   },
   "file_extension": ".py",
   "mimetype": "text/x-python",
   "name": "python",
   "nbconvert_exporter": "python",
   "pygments_lexer": "ipython3",
   "version": "3.11.11"
  }
 },
 "nbformat": 4,
 "nbformat_minor": 5
}
