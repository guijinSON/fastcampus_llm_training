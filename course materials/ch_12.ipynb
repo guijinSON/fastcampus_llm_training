{
 "cells": [
  {
   "cell_type": "code",
   "execution_count": null,
   "id": "feb82aaa-32df-4ef0-87ea-2c6a22587ddf",
   "metadata": {},
   "outputs": [],
   "source": [
    "ashleykza/runpod-base:2.4.3-python3.11-cuda12.4.1-torch2.6.0\n",
    "\n",
    "pip3 install -U packaging==23.2 setuptools==75.8.0 wheel ninja\n",
    "pip3 install --no-build-isolation \"axolotl[flash-attn,deepspeed]==0.10.0\""
   ]
  },
  {
   "cell_type": "code",
   "execution_count": 6,
   "id": "0a6a4fdd-21d6-4233-897f-d5c0a5579f6a",
   "metadata": {},
   "outputs": [
    {
     "data": {
      "application/vnd.jupyter.widget-view+json": {
       "model_id": "0957441ee07d4082bcca09a70aca36cf",
       "version_major": 2,
       "version_minor": 0
      },
      "text/plain": [
       "README.md:   0%|          | 0.00/357 [00:00<?, ?B/s]"
      ]
     },
     "metadata": {},
     "output_type": "display_data"
    },
    {
     "data": {
      "application/vnd.jupyter.widget-view+json": {
       "model_id": "0e5565cd89b54ebd968cd6750c3d1fc4",
       "version_major": 2,
       "version_minor": 0
      },
      "text/plain": [
       "data/train-00000-of-00001.parquet:   0%|          | 0.00/41.0M [00:00<?, ?B/s]"
      ]
     },
     "metadata": {},
     "output_type": "display_data"
    },
    {
     "data": {
      "application/vnd.jupyter.widget-view+json": {
       "model_id": "fe51e567205045a59c328f4b466d2d09",
       "version_major": 2,
       "version_minor": 0
      },
      "text/plain": [
       "Generating train split:   0%|          | 0/17025 [00:00<?, ? examples/s]"
      ]
     },
     "metadata": {},
     "output_type": "display_data"
    },
    {
     "data": {
      "application/vnd.jupyter.widget-view+json": {
       "model_id": "da5689ddbaa04e909aa19806a09a6db9",
       "version_major": 2,
       "version_minor": 0
      },
      "text/plain": [
       "  0%|          | 0/17025 [00:00<?, ?it/s]"
      ]
     },
     "metadata": {},
     "output_type": "display_data"
    }
   ],
   "source": [
    "from datasets import load_dataset\n",
    "from tqdm.auto import tqdm\n",
    "import pandas as pd\n",
    "df = load_dataset(\"amphora/fc-ko-project-po-v0\", split=\"train\").to_pandas()\n",
    "\n",
    "\n",
    "msg = {\n",
    "    \"messages\": [],\n",
    "    \"chosen\": [],\n",
    "    \"rejected\": []\n",
    "}\n",
    "for _,row in tqdm(df.iterrows(), total=len(df)):\n",
    "    msg[\"messages\"].append([{\"role\": \"user\",\"content\": row.instruction}])\n",
    "    msg[\"chosen\"].append([{\"role\": \"assistant\",\"content\": row.chosen}])\n",
    "    msg[\"rejected\"].append([{\"role\": \"assistant\",\"content\": row.rejected}])\n",
    "        \n",
    "ds = pd.DataFrame(msg)\n",
    "ds.to_json(\"train.jsonl\", lines=True, orient=\"records\")"
   ]
  },
  {
   "cell_type": "code",
   "execution_count": null,
   "id": "3f81a00f-e752-445e-b7e6-fcfe550edcfe",
   "metadata": {},
   "outputs": [],
   "source": []
  }
 ],
 "metadata": {
  "kernelspec": {
   "display_name": "Python 3",
   "language": "python",
   "name": "python3"
  },
  "language_info": {
   "codemirror_mode": {
    "name": "ipython",
    "version": 3
   },
   "file_extension": ".py",
   "mimetype": "text/x-python",
   "name": "python",
   "nbconvert_exporter": "python",
   "pygments_lexer": "ipython3",
   "version": "3.11.12"
  }
 },
 "nbformat": 4,
 "nbformat_minor": 5
}
