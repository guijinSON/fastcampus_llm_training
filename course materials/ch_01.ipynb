{
 "cells": [
  {
   "cell_type": "markdown",
   "id": "4f45c207-476f-4245-a0ff-9485ced6beb8",
   "metadata": {},
   "source": [
    "### 문장이 벡터화 되는 과정"
   ]
  },
  {
   "cell_type": "code",
   "execution_count": 1,
   "id": "16c45eed-7575-476a-9296-1281ecece16d",
   "metadata": {},
   "outputs": [
    {
     "name": "stderr",
     "output_type": "stream",
     "text": [
      "/opt/conda/lib/python3.11/site-packages/tqdm/auto.py:21: TqdmWarning: IProgress not found. Please update jupyter and ipywidgets. See https://ipywidgets.readthedocs.io/en/stable/user_install.html\n",
      "  from .autonotebook import tqdm as notebook_tqdm\n",
      "Some weights of the model checkpoint at google-bert/bert-base-uncased were not used when initializing BertForMaskedLM: ['bert.pooler.dense.bias', 'bert.pooler.dense.weight', 'cls.seq_relationship.bias', 'cls.seq_relationship.weight']\n",
      "- This IS expected if you are initializing BertForMaskedLM from the checkpoint of a model trained on another task or with another architecture (e.g. initializing a BertForSequenceClassification model from a BertForPreTraining model).\n",
      "- This IS NOT expected if you are initializing BertForMaskedLM from the checkpoint of a model that you expect to be exactly identical (initializing a BertForSequenceClassification model from a BertForSequenceClassification model).\n"
     ]
    }
   ],
   "source": [
    "# Load model directly\n",
    "from transformers import AutoTokenizer, AutoModelForMaskedLM\n",
    "\n",
    "tokenizer = AutoTokenizer.from_pretrained(\"google-bert/bert-base-uncased\")\n",
    "model = AutoModelForMaskedLM.from_pretrained(\"google-bert/bert-base-uncased\")"
   ]
  },
  {
   "cell_type": "code",
   "execution_count": 16,
   "id": "370071e7-dce5-4aef-b8ab-b7ef0d3ded43",
   "metadata": {},
   "outputs": [
    {
     "name": "stdout",
     "output_type": "stream",
     "text": [
      "tensor([[  101,  1045,  2215,  2000,  4521, 12090,  2833,  1012,   102]])\n",
      "torch.Size([1, 9])\n"
     ]
    }
   ],
   "source": [
    "input_ids = tokenizer('i want to eat delicious food.', return_tensors='pt')\n",
    "\n",
    "print(input_ids ['input_ids'])\n",
    "print(input_ids ['input_ids'].shape)"
   ]
  },
  {
   "cell_type": "code",
   "execution_count": 19,
   "id": "2c6892e6-fa7b-43c8-8a23-2fff80215afa",
   "metadata": {},
   "outputs": [
    {
     "data": {
      "text/plain": [
       "['[CLS]', 'i', 'want', 'to', 'eat', 'delicious', 'food', '.', '[SEP]']"
      ]
     },
     "execution_count": 19,
     "metadata": {},
     "output_type": "execute_result"
    }
   ],
   "source": [
    "tokenizer.convert_ids_to_tokens(input_ids ['input_ids'][0])"
   ]
  },
  {
   "cell_type": "code",
   "execution_count": 23,
   "id": "80a145ce-60b3-4680-a74a-8d253f8ab798",
   "metadata": {},
   "outputs": [
    {
     "data": {
      "text/plain": [
       "BertForMaskedLM(\n",
       "  (bert): BertModel(\n",
       "    (embeddings): BertEmbeddings(\n",
       "      (word_embeddings): Embedding(30522, 768, padding_idx=0)\n",
       "      (position_embeddings): Embedding(512, 768)\n",
       "      (token_type_embeddings): Embedding(2, 768)\n",
       "      (LayerNorm): LayerNorm((768,), eps=1e-12, elementwise_affine=True)\n",
       "      (dropout): Dropout(p=0.1, inplace=False)\n",
       "    )\n",
       "    (encoder): BertEncoder(\n",
       "      (layer): ModuleList(\n",
       "        (0-11): 12 x BertLayer(\n",
       "          (attention): BertAttention(\n",
       "            (self): BertSdpaSelfAttention(\n",
       "              (query): Linear(in_features=768, out_features=768, bias=True)\n",
       "              (key): Linear(in_features=768, out_features=768, bias=True)\n",
       "              (value): Linear(in_features=768, out_features=768, bias=True)\n",
       "              (dropout): Dropout(p=0.1, inplace=False)\n",
       "            )\n",
       "            (output): BertSelfOutput(\n",
       "              (dense): Linear(in_features=768, out_features=768, bias=True)\n",
       "              (LayerNorm): LayerNorm((768,), eps=1e-12, elementwise_affine=True)\n",
       "              (dropout): Dropout(p=0.1, inplace=False)\n",
       "            )\n",
       "          )\n",
       "          (intermediate): BertIntermediate(\n",
       "            (dense): Linear(in_features=768, out_features=3072, bias=True)\n",
       "            (intermediate_act_fn): GELUActivation()\n",
       "          )\n",
       "          (output): BertOutput(\n",
       "            (dense): Linear(in_features=3072, out_features=768, bias=True)\n",
       "            (LayerNorm): LayerNorm((768,), eps=1e-12, elementwise_affine=True)\n",
       "            (dropout): Dropout(p=0.1, inplace=False)\n",
       "          )\n",
       "        )\n",
       "      )\n",
       "    )\n",
       "  )\n",
       "  (cls): BertOnlyMLMHead(\n",
       "    (predictions): BertLMPredictionHead(\n",
       "      (transform): BertPredictionHeadTransform(\n",
       "        (dense): Linear(in_features=768, out_features=768, bias=True)\n",
       "        (transform_act_fn): GELUActivation()\n",
       "        (LayerNorm): LayerNorm((768,), eps=1e-12, elementwise_affine=True)\n",
       "      )\n",
       "      (decoder): Linear(in_features=768, out_features=30522, bias=True)\n",
       "    )\n",
       "  )\n",
       ")"
      ]
     },
     "execution_count": 23,
     "metadata": {},
     "output_type": "execute_result"
    }
   ],
   "source": [
    "model"
   ]
  },
  {
   "cell_type": "code",
   "execution_count": 12,
   "id": "9ac93249-72c9-4629-b1c9-1aff3feac88e",
   "metadata": {},
   "outputs": [
    {
     "data": {
      "text/plain": [
       "tensor([[[ 1.6855e-01, -2.8577e-01, -3.2613e-01,  ..., -2.7571e-02,\n",
       "           3.8253e-02,  1.6400e-01],\n",
       "         [-3.4026e-04,  5.3974e-01, -2.8805e-01,  ...,  7.5731e-01,\n",
       "           8.9008e-01,  1.6575e-01],\n",
       "         [-3.9507e-01, -4.8281e-01, -2.7145e-02,  ...,  3.8478e-01,\n",
       "           8.2980e-01, -8.0975e-01],\n",
       "         ...,\n",
       "         [ 8.4121e-02,  9.9452e-02, -3.0035e-02,  ...,  1.3311e-01,\n",
       "           6.2196e-01, -4.2563e-01],\n",
       "         [-1.7839e-01,  4.5461e-02, -5.2727e-02,  ...,  3.0492e-01,\n",
       "           7.3745e-01,  5.6209e-01],\n",
       "         [-2.3061e-01, -2.4164e-01, -4.0893e-02,  ..., -2.8555e-01,\n",
       "           2.4370e-01, -7.0539e-02]]], grad_fn=<NativeLayerNormBackward0>)"
      ]
     },
     "execution_count": 12,
     "metadata": {},
     "output_type": "execute_result"
    }
   ],
   "source": [
    "embedding = model.bert.embeddings(input_ids ['input_ids'])\n",
    "embedding"
   ]
  },
  {
   "cell_type": "code",
   "execution_count": 22,
   "id": "c1fc3a30-f711-41cf-b345-b27c6497507a",
   "metadata": {},
   "outputs": [
    {
     "data": {
      "text/plain": [
       "torch.Size([1, 9, 768])"
      ]
     },
     "execution_count": 22,
     "metadata": {},
     "output_type": "execute_result"
    }
   ],
   "source": [
    "embedding.shape"
   ]
  },
  {
   "cell_type": "markdown",
   "id": "e53992ad-a9d7-4760-80b0-d11c2e9a6955",
   "metadata": {},
   "source": [
    "### 다음 단어 예측하기"
   ]
  },
  {
   "cell_type": "code",
   "execution_count": 1,
   "id": "2d9ed30a-020a-4341-aab4-c4294fe58bad",
   "metadata": {},
   "outputs": [
    {
     "name": "stderr",
     "output_type": "stream",
     "text": [
      "/opt/conda/lib/python3.11/site-packages/tqdm/auto.py:21: TqdmWarning: IProgress not found. Please update jupyter and ipywidgets. See https://ipywidgets.readthedocs.io/en/stable/user_install.html\n",
      "  from .autonotebook import tqdm as notebook_tqdm\n"
     ]
    }
   ],
   "source": [
    "# Load model directly\n",
    "from transformers import AutoTokenizer, AutoModelForCausalLM\n",
    "\n",
    "tokenizer = AutoTokenizer.from_pretrained(\"naver-hyperclovax/HyperCLOVAX-SEED-Text-Instruct-0.5B\")\n",
    "model = AutoModelForCausalLM.from_pretrained(\"naver-hyperclovax/HyperCLOVAX-SEED-Text-Instruct-0.5B\")"
   ]
  },
  {
   "cell_type": "code",
   "execution_count": 2,
   "id": "7954a1f4-2a71-4ec6-8ab9-885a4ca2ffde",
   "metadata": {},
   "outputs": [
    {
     "data": {
      "text/plain": [
       "LlamaForCausalLM(\n",
       "  (model): LlamaModel(\n",
       "    (embed_tokens): Embedding(110592, 1024, padding_idx=100257)\n",
       "    (layers): ModuleList(\n",
       "      (0-23): 24 x LlamaDecoderLayer(\n",
       "        (self_attn): LlamaAttention(\n",
       "          (q_proj): Linear(in_features=1024, out_features=2048, bias=False)\n",
       "          (k_proj): Linear(in_features=1024, out_features=1024, bias=False)\n",
       "          (v_proj): Linear(in_features=1024, out_features=1024, bias=False)\n",
       "          (o_proj): Linear(in_features=2048, out_features=1024, bias=False)\n",
       "        )\n",
       "        (mlp): LlamaMLP(\n",
       "          (gate_proj): Linear(in_features=1024, out_features=4096, bias=False)\n",
       "          (up_proj): Linear(in_features=1024, out_features=4096, bias=False)\n",
       "          (down_proj): Linear(in_features=4096, out_features=1024, bias=False)\n",
       "          (act_fn): SiLU()\n",
       "        )\n",
       "        (input_layernorm): LlamaRMSNorm((1024,), eps=1e-05)\n",
       "        (post_attention_layernorm): LlamaRMSNorm((1024,), eps=1e-05)\n",
       "      )\n",
       "    )\n",
       "    (norm): LlamaRMSNorm((1024,), eps=1e-05)\n",
       "    (rotary_emb): LlamaRotaryEmbedding()\n",
       "  )\n",
       "  (lm_head): Linear(in_features=1024, out_features=110592, bias=False)\n",
       ")"
      ]
     },
     "execution_count": 2,
     "metadata": {},
     "output_type": "execute_result"
    }
   ],
   "source": [
    "model"
   ]
  },
  {
   "cell_type": "code",
   "execution_count": 38,
   "id": "c7cc77c7-841d-4167-b737-9a9075c6ed6a",
   "metadata": {},
   "outputs": [
    {
     "name": "stdout",
     "output_type": "stream",
     "text": [
      "torch.Size([1, 71])\n"
     ]
    }
   ],
   "source": [
    "chat = [\n",
    "    {\"role\": \"tool_list\", \"content\": \"\"},\n",
    "    {\"role\": \"system\", \"content\": \"- AI 언어모델의 이름은 \\\"CLOVA X\\\" 이며 네이버에서 만들었다.\\n- 오늘은 2025년 04월 24일(목)이다.\"},\n",
    "    {\"role\": \"user\", \"content\": \"슈뢰딩거 방정식과 양자역학의 관계를 최대한 자세히 알려줘.\"},\n",
    "]\n",
    "\n",
    "inputs = tokenizer.apply_chat_template(chat, add_generation_prompt=True, return_dict=True, return_tensors=\"pt\")\n",
    "print(inputs['input_ids'].shape)"
   ]
  },
  {
   "cell_type": "code",
   "execution_count": 5,
   "id": "b0b23ac2-fefc-42d4-89f9-2adc98f554de",
   "metadata": {
    "scrolled": true
   },
   "outputs": [],
   "source": [
    "o = model(inputs['input_ids'])"
   ]
  },
  {
   "cell_type": "code",
   "execution_count": 7,
   "id": "d5b25802-118a-410f-8448-55a469f62bea",
   "metadata": {},
   "outputs": [
    {
     "data": {
      "text/plain": [
       "torch.Size([1, 71, 110592])"
      ]
     },
     "execution_count": 7,
     "metadata": {},
     "output_type": "execute_result"
    }
   ],
   "source": [
    "o.logits.shape"
   ]
  },
  {
   "cell_type": "code",
   "execution_count": 16,
   "id": "67be022e-c464-4b7e-94c8-41bbb9bee9d9",
   "metadata": {},
   "outputs": [
    {
     "data": {
      "text/plain": [
       "torch.Size([1, 110592])"
      ]
     },
     "execution_count": 16,
     "metadata": {},
     "output_type": "execute_result"
    }
   ],
   "source": [
    "o.logits[:,-1,:].shape"
   ]
  },
  {
   "cell_type": "code",
   "execution_count": 18,
   "id": "0405f66e-3130-4007-8a6c-0e0a944c1075",
   "metadata": {},
   "outputs": [
    {
     "data": {
      "text/plain": [
       "tensor(106097)"
      ]
     },
     "execution_count": 18,
     "metadata": {},
     "output_type": "execute_result"
    }
   ],
   "source": [
    "import torch\n",
    "torch.argmax(o.logits[:,-1,:])"
   ]
  },
  {
   "cell_type": "code",
   "execution_count": 20,
   "id": "cb8b21f5-c7bd-47fb-ab8a-91103847470e",
   "metadata": {},
   "outputs": [
    {
     "data": {
      "text/plain": [
       "'슈'"
      ]
     },
     "execution_count": 20,
     "metadata": {},
     "output_type": "execute_result"
    }
   ],
   "source": [
    "tokenizer.decode([106097])"
   ]
  },
  {
   "cell_type": "code",
   "execution_count": 37,
   "id": "57e86eb1-138b-4e12-916c-8a4740bf60a3",
   "metadata": {},
   "outputs": [
    {
     "name": "stderr",
     "output_type": "stream",
     "text": [
      "/tmp/ipykernel_13948/3336178769.py:56: UserWarning: Glyph 65533 (\\N{REPLACEMENT CHARACTER}) missing from font(s) Noto Sans CJK KR.\n",
      "  plt.tight_layout()\n",
      "/opt/conda/lib/python3.11/site-packages/IPython/core/pylabtools.py:170: UserWarning: Glyph 65533 (\\N{REPLACEMENT CHARACTER}) missing from font(s) Noto Sans CJK KR.\n",
      "  fig.canvas.print_figure(bytes_io, **kw)\n"
     ]
    },
    {
     "data": {
      "image/png": "[encoded data removed]",
      "text/plain": [
       "<Figure size 1000x300 with 1 Axes>"
      ]
     },
     "metadata": {},
     "output_type": "display_data"
    }
   ],
   "source": [
    "import torch\n",
    "import matplotlib.pyplot as plt\n",
    "\n",
    "# (A) Extract the final‐time‐step logits\n",
    "last_logits = o.logits[:, -1, :].squeeze(0)   # shape: [vocab_size]\n",
    "\n",
    "# (B) Pick the “center” token ID (the one you care about):\n",
    "center_id = torch.argmax(last_logits).item()  \n",
    "\n",
    "# ─── Step 2: build a “centered” logits vector\n",
    "# We subtract the logit of the center token, so that its centered‐value becomes zero.\n",
    "center_value = last_logits[center_id]\n",
    "centered_logits = last_logits# - center_value    # still shape [vocab_size]\n",
    "\n",
    "# ─── Step 3: restrict to a small index‐window around `center_id`\n",
    "window = 20\n",
    "vocab_size = centered_logits.shape[0]\n",
    "\n",
    "start_idx = max(center_id - window, 0)\n",
    "end_idx   = min(center_id + window + 1, vocab_size)\n",
    "\n",
    "indices = torch.arange(start_idx, end_idx)                 # tensor of IDs\n",
    "values  = centered_logits[indices].detach().numpy()           # numpy‐array of logits\n",
    "\n",
    "# Decode each ID into its string form (subword/character token) for x‐tick labels:\n",
    "token_labels = [tokenizer.decode([int(i)]) for i in indices]\n",
    "\n",
    "# ─── Step 4: plot with Matplotlib\n",
    "plt.figure(figsize=(10, 3))\n",
    "plt.bar(range(len(indices)), values, align='center')\n",
    "plt.axhline(0.0, color='red', linewidth=1, linestyle='--')\n",
    "\n",
    "# font_path='fonts/NotoSansCJKkr-Black.otf'\n",
    "# fm.fontManager.addfont(font_path)\n",
    "# font_prop = fm.FontProperties(fname=font_path)\n",
    "# name = font_prop.get_name()  # e.g. \"Noto Sans CJK KR\"\n",
    "# plt.rcParams[\"font.sans-serif\"] = [name]\n",
    "# plt.rcParams[\"font.family\"] = \"sans-serif\"\n",
    "# plt.rcParams[\"axes.unicode_minus\"] = False\n",
    "\n",
    "# Label the “center” bar in a different color (optional)\n",
    "center_pos = (center_id - start_idx)\n",
    "plt.bar(center_pos, values[center_pos], color='orange', align='center')\n",
    "\n",
    "# Attach token‐strings as x‐ticks, rotated vertically if necessary\n",
    "plt.xticks(\n",
    "    ticks=list(range(len(indices))),\n",
    "    labels=token_labels,\n",
    "    rotation=90,\n",
    "    fontsize=8\n",
    ")\n",
    "\n",
    "plt.title(f\"Logits centered on token “{tokenizer.decode([center_id])}” (ID {center_id})\")\n",
    "plt.ylabel(\"logit − logit(center_token)\")\n",
    "plt.xlabel(\"token IDs around center_id\")\n",
    "plt.tight_layout()\n",
    "plt.show()\n"
   ]
  },
  {
   "cell_type": "code",
   "execution_count": null,
   "id": "df5920df-7f76-4087-8965-3300add728a5",
   "metadata": {},
   "outputs": [],
   "source": []
  }
 ],
 "metadata": {
  "kernelspec": {
   "display_name": "Python 3 (ipykernel)",
   "language": "python",
   "name": "python3"
  },
  "language_info": {
   "codemirror_mode": {
    "name": "ipython",
    "version": 3
   },
   "file_extension": ".py",
   "mimetype": "text/x-python",
   "name": "python",
   "nbconvert_exporter": "python",
   "pygments_lexer": "ipython3",
   "version": "3.11.11"
  }
 },
 "nbformat": 4,
 "nbformat_minor": 5
}
